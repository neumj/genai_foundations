{
 "cells": [
  {
   "cell_type": "markdown",
   "metadata": {
    "id": "onx-6uViJsZ8"
   },
   "source": [
    "# loading  the white wine and red wine datasets"
   ]
  },
  {
   "cell_type": "code",
   "execution_count": null,
   "metadata": {
    "id": "z--IwGdMJsaB"
   },
   "outputs": [],
   "source": [
    "import pandas as pd\n",
    "import matplotlib.pyplot as plt\n",
    "from sklearn.model_selection import train_test_split\n",
    "from sklearn.preprocessing import StandardScaler\n",
    "from sklearn.neural_network import MLPClassifier\n",
    "from sklearn.metrics import accuracy_score, precision_score, recall_score, confusion_matrix, classification_report\n",
    "import numpy as np\n",
    "\n",
    "print(\"hello world\")"
   ]
  },
  {
   "cell_type": "code",
   "execution_count": null,
   "metadata": {
    "id": "NZJ_6TedJsaE"
   },
   "outputs": [],
   "source": [
    "# Load the red and white wine datasets from CSV files\n",
    "# 'red.csv' contains data about red wine and 'white.csv' contains data about white wine.\n",
    "red_wine = pd.read_csv('red.csv')\n",
    "white_wine = pd.read_csv('white.csv')\n"
   ]
  },
  {
   "cell_type": "markdown",
   "metadata": {
    "id": "0d99ip7MJsaE"
   },
   "source": [
    "# Combine data from both files and add color column, fill NaN values wiht mean value"
   ]
  },
  {
   "cell_type": "code",
   "execution_count": null,
   "metadata": {
    "id": "4f9BofiQJsaE"
   },
   "outputs": [],
   "source": [
    "# Add a 'color' column to distinguish between wine types in the combined dataset\n",
    "# Assign '0' for red wine and '1' for white wine to help in binary classification later\n",
    "red_wine['color'] = 0  # 0 represents red wine\n",
    "white_wine['color'] = 1  # 1 represents white wine\n",
    "\n",
    "# Combine the red and white wine datasets into a single dataset for processing\n",
    "# Ignore the original indices to create a new unified index\n",
    "wine_data = pd.concat([red_wine, white_wine], ignore_index=True)\n",
    "\n",
    "# Handle missing values by replacing them with the mean of their respective columns\n",
    "# This ensures that missing data does not negatively affect the training of the model\n",
    "wine_data.fillna(wine_data.mean(), inplace=True)"
   ]
  },
  {
   "cell_type": "markdown",
   "metadata": {
    "id": "fss5xRptJsaF"
   },
   "source": [
    "# Plot Histogram of data"
   ]
  },
  {
   "cell_type": "code",
   "execution_count": null,
   "metadata": {
    "id": "U6cYdF-hJsaF"
   },
   "outputs": [],
   "source": [
    "# Iterate over each column (excluding 'color') to plot histograms\n",
    "for column in wine_data.columns:\n",
    "    if column != 'color':  # Skip the 'color' column\n",
    "        plt.figure(figsize=(10, 6))\n",
    "\n",
    "        # Plot the histogram for red wine\n",
    "        red_wine[column].plot(kind='hist', bins=30, alpha=0.5, color='red', label='Red Wine')\n",
    "\n",
    "        # Plot the histogram for white wine\n",
    "        white_wine[column].plot(kind='hist', bins=30, alpha=0.5, color='blue', label='White Wine')\n",
    "\n",
    "        # Add labels, title, and legend\n",
    "        plt.title(f'Histogram of {column}')\n",
    "        plt.xlabel(column)\n",
    "        plt.ylabel('Frequency')\n",
    "        plt.legend()\n",
    "\n",
    "        # Save the plot as a PNG file\n",
    "        plt.savefig(f'{column}_histogram.png')\n",
    "\n",
    "        # Display the plot\n",
    "        #plt.show()  #uncomment to see histograms here"
   ]
  },
  {
   "cell_type": "markdown",
   "metadata": {
    "id": "77UVE1GYJsaG"
   },
   "source": [
    "# Prepare training data (X) and labels (Y), labels can be color or wine quality"
   ]
  },
  {
   "cell_type": "code",
   "execution_count": null,
   "metadata": {
    "id": "XweZiAuqJsaG"
   },
   "outputs": [],
   "source": [
    "# Define the target column for classification\n",
    "# The target can either be 'color' for binary classification (red vs. white wine)\n",
    "# or 'quality' for multi-class classification (wine quality on a numeric scale)\n",
    "target_column = 'quality'  # Change to 'quality' if multi-class classification is desired\n",
    "\n",
    "# Separate features (X) and target (y)\n",
    "# The features are all columns except 'color' and 'quality', depending on the target\n",
    "# The target is the column defined above, either 'color' or 'quality'\n",
    "X = wine_data.drop(columns=['color', 'quality'])\n",
    "y = wine_data[target_column]\n",
    "\n",
    "# Standardize the features to bring them to the same scale\n",
    "# This helps the neural network model to converge faster and more reliably\n",
    "scaler = StandardScaler()\n",
    "X_scaled = scaler.fit_transform(X)\n",
    "\n",
    "# Split the dataset into training and testing sets (80% train, 20% test)\n",
    "# A random state is used for reproducibility of the results\n",
    "X_train, X_test, y_train, y_test = train_test_split(X_scaled, y, test_size=0.2, random_state=42)"
   ]
  },
  {
   "cell_type": "markdown",
   "metadata": {
    "id": "Pk9mlFVRJsaH"
   },
   "source": [
    "# Create Classifier and apply to test data"
   ]
  },
  {
   "cell_type": "code",
   "execution_count": null,
   "metadata": {
    "id": "lq3EKOI0JsaH",
    "outputId": "6cbab7c7-51e3-443e-cfc4-61429ea517b2"
   },
   "outputs": [
    {
     "name": "stdout",
     "output_type": "stream",
     "text": [
      "\n",
      "Neural Network Details:\n",
      "Number of layers: 4\n",
      "Number of outputs: 7\n",
      "Hidden layer sizes: (100, 100)\n",
      "Number of iterations completed: 432\n",
      "Loss after training: 0.2877\n",
      "Convergence status: Converged\n"
     ]
    }
   ],
   "source": [
    "# Create and train the neural network classifier using Multi-Layer Perceptron (MLP)\n",
    "# We use two hidden layers with 100 neurons each, a maximum of 500 iterations, and a random state for reproducibility\n",
    "mlp = MLPClassifier(hidden_layer_sizes=(100, 100), max_iter=500, random_state=42)\n",
    "mlp.fit(X_train, y_train)\n",
    "\n",
    "# Make predictions on the test set using the trained model\n",
    "y_pred = mlp.predict(X_test)\n",
    "\n",
    "# Display additional details about the trained neural network model\n",
    "print(\"\\nNeural Network Details:\")\n",
    "# Number of layers in the neural network, including input, hidden, and output layers\n",
    "print(f\"Number of layers: {mlp.n_layers_}\")\n",
    "# Number of outputs, corresponding to the number of classes in the target variable\n",
    "print(f\"Number of outputs: {mlp.n_outputs_}\")\n",
    "# Size of the hidden layers used in the network\n",
    "print(f\"Hidden layer sizes: {mlp.hidden_layer_sizes}\")\n",
    "# Number of iterations the model went through before stopping training\n",
    "print(f\"Number of iterations completed: {mlp.n_iter_}\")\n",
    "# The final loss value after training, which helps gauge model convergence\n",
    "print(f\"Loss after training: {mlp.loss_:.4f}\")\n",
    "# Indicates whether the model converged within the specified maximum iterations\n",
    "print(f\"Convergence status: {'Converged' if mlp.n_iter_ < mlp.max_iter else 'Not converged'}\")\n"
   ]
  },
  {
   "cell_type": "markdown",
   "metadata": {
    "id": "-Bjo8-wKJsaH"
   },
   "source": [
    "# Compare predicted labels with grount truth labels"
   ]
  },
  {
   "cell_type": "code",
   "execution_count": null,
   "metadata": {
    "id": "naiQ5PHqJsaI",
    "outputId": "122aa2a4-7ce1-4605-e897-b71a4ddb0474"
   },
   "outputs": [
    {
     "name": "stdout",
     "output_type": "stream",
     "text": [
      "Accuracy: 0.59\n",
      "Precision: 0.59\n",
      "Recall: 0.59\n",
      "\n",
      "Confusion Matrix:\n",
      "[[  1   1   1   2   0   1   0]\n",
      " [  1   7  20  14   0   1   0]\n",
      " [  3  14 291  78  15   1   0]\n",
      " [  0  11 183 329  65   9   0]\n",
      " [  0   2   9  64 127  13   0]\n",
      " [  0   0   2  11  12  11   0]\n",
      " [  0   0   0   1   0   0   0]]\n",
      "\n",
      "Classification Report:\n",
      "              precision    recall  f1-score   support\n",
      "\n",
      "           3       0.20      0.17      0.18         6\n",
      "           4       0.20      0.16      0.18        43\n",
      "           5       0.58      0.72      0.64       402\n",
      "           6       0.66      0.55      0.60       597\n",
      "           7       0.58      0.59      0.59       215\n",
      "           8       0.31      0.31      0.31        36\n",
      "           9       0.00      0.00      0.00         1\n",
      "\n",
      "    accuracy                           0.59      1300\n",
      "   macro avg       0.36      0.36      0.36      1300\n",
      "weighted avg       0.59      0.59      0.59      1300\n",
      "\n"
     ]
    }
   ],
   "source": [
    "# Calculate evaluation metrics for the model's performance\n",
    "# Metrics include accuracy, precision, recall, and a confusion matrix\n",
    "accuracy = accuracy_score(y_test, y_pred)\n",
    "precision = precision_score(y_test, y_pred, average='weighted', zero_division=0)\n",
    "recall = recall_score(y_test, y_pred, average='weighted', zero_division=0)\n",
    "conf_matrix = confusion_matrix(y_test, y_pred)\n",
    "\n",
    "# Display the calculated metrics to understand the model's performance\n",
    "print(f\"Accuracy: {accuracy:.2f}\")\n",
    "print(f\"Precision: {precision:.2f}\")\n",
    "print(f\"Recall: {recall:.2f}\")\n",
    "print(\"\\nConfusion Matrix:\")\n",
    "print(conf_matrix)\n",
    "print(\"\\nClassification Report:\")\n",
    "print(classification_report(y_test, y_pred, zero_division=0))"
   ]
  }
 ],
 "metadata": {
  "colab": {
   "provenance": []
  },
  "kernelspec": {
   "display_name": ".venv",
   "language": "python",
   "name": "python3"
  },
  "language_info": {
   "codemirror_mode": {
    "name": "ipython",
    "version": 3
   },
   "file_extension": ".py",
   "mimetype": "text/x-python",
   "name": "python",
   "nbconvert_exporter": "python",
   "pygments_lexer": "ipython3",
   "version": "3.11.2"
  }
 },
 "nbformat": 4,
 "nbformat_minor": 0
}
