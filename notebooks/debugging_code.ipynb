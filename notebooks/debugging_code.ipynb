{
  "cells": [
    {
      "cell_type": "markdown",
      "source": [
        "<body>\n",
        "  <div style=\"text-align: center;\">\n",
        "    <img src=\"https://mma.prnewswire.com/media/1458111/Great_Learning_Logo.jpg?p=facebook\" width=\"200\" height=\"100\"/>\n",
        "  </div>\n",
        "</body>\n"
      ],
      "metadata": {
        "id": "535fD75gCrqg"
      }
    },
    {
      "cell_type": "markdown",
      "metadata": {
        "id": "00CUviz3CGiD"
      },
      "source": [
        "### Debugging Your Code\n",
        "\n",
        "Debugging is the process of identifying and fixing issues in your code.\n",
        "\n",
        "### Errors\n",
        "Common Python errors include:\n",
        "1.\tSyntax Errors\n",
        "2.\tName Errors\n",
        "3.\tType Errors\n",
        "4.\tIndex Errors\n",
        "5.\tLogic Errors\n",
        "6.  Infinite Loop Errors\n",
        "7.  Boolean Logic Errors\n",
        "\n",
        "ChatGPT can help by explaining errors, suggesting fixes, and even refactoring code for better clarity.\n",
        "\n",
        "### Techniques for Debugging\n",
        "I recommend the following techniques or approaches for debugging code, which I will demonstrate in this notebook:\n",
        "1.\tUsing error messages\n",
        "2.\tChecking variable names\n",
        "3.\tUsing the print statement\n",
        "4.\tUsing Python’s debugger (pdb)\n",
        "5.\tTesting logic\n",
        "\n",
        "### Practice\n",
        "The code blocks in this notebook each contain a different kind of error.  For each code block, execute the code, observe the error, and then copy and paste the markdown statement into ChatGPT to gain help in resolving the bug.  Using the information from ChatGPT, fix the code.\n"
      ]
    },
    {
      "cell_type": "code",
      "execution_count": null,
      "metadata": {
        "id": "IyKAcLjxCGiF",
        "outputId": "e25e0b16-4d8f-4ef4-81fb-3eb018ee03e0"
      },
      "outputs": [
        {
          "ename": "SyntaxError",
          "evalue": "invalid syntax (2785037448.py, line 2)",
          "output_type": "error",
          "traceback": [
            "\u001b[0;36m  Cell \u001b[0;32mIn[1], line 2\u001b[0;36m\u001b[0m\n\u001b[0;31m    for i in range(5)\u001b[0m\n\u001b[0m                     ^\u001b[0m\n\u001b[0;31mSyntaxError\u001b[0m\u001b[0;31m:\u001b[0m invalid syntax\n"
          ]
        }
      ],
      "source": [
        "# Example 1: Syntax Error\n",
        "for i in range(5)\n",
        "    print(i)"
      ]
    },
    {
      "cell_type": "markdown",
      "metadata": {
        "id": "zKaGogA_CGiG"
      },
      "source": [
        "\n",
        "Run the code to see the error message.\n",
        "\n",
        "Ask ChatGPT: *\"What is a SyntaxError in Python? How do I fix it?\""
      ]
    },
    {
      "cell_type": "code",
      "execution_count": null,
      "metadata": {
        "id": "dzCxFVLXCGiG"
      },
      "outputs": [],
      "source": [
        "# Example 2: NameError\n",
        "print(my_variable)"
      ]
    },
    {
      "cell_type": "markdown",
      "metadata": {
        "id": "KgloXqMgCGiG"
      },
      "source": [
        "\n",
        "Identify undefined variables in the code.\n",
        "\n",
        "Ask ChatGPT: *\"What is a NameError and how do I debug it?\""
      ]
    },
    {
      "cell_type": "code",
      "execution_count": null,
      "metadata": {
        "id": "XG8KKi2fCGiG"
      },
      "outputs": [],
      "source": [
        "# Example 3: TypeError\n",
        "result = \"5\" + 5\n",
        "print(result)"
      ]
    },
    {
      "cell_type": "markdown",
      "metadata": {
        "id": "QQ2bCuRmCGiH"
      },
      "source": [
        "\n",
        "Use print statements to inspect variable types.\n",
        "\n",
        "Ask ChatGPT: *\"Why does Python raise a TypeError when adding a string and an integer?\""
      ]
    },
    {
      "cell_type": "code",
      "execution_count": null,
      "metadata": {
        "id": "talnLjB5CGiH"
      },
      "outputs": [],
      "source": [
        "# Example 4: IndexError\n",
        "my_list = [1, 2, 3]\n",
        "print(my_list[5])"
      ]
    },
    {
      "cell_type": "markdown",
      "metadata": {
        "id": "JX1Ojh5HCGiH"
      },
      "source": [
        "Import and use pdb to step through the code.\n",
        "\n",
        "Set a breakpoint and inspect variable states."
      ]
    },
    {
      "cell_type": "code",
      "execution_count": null,
      "metadata": {
        "id": "5g-_I3alCGiH"
      },
      "outputs": [],
      "source": [
        "import pdb; pdb.set_trace()\n",
        "my_list = [1, 2, 3]\n",
        "print(my_list[5])"
      ]
    },
    {
      "cell_type": "markdown",
      "metadata": {
        "id": "PdREk-QCCGiH"
      },
      "source": [
        "Use ChatGPT to explain how to navigate the debugger and fix the code by checking the list length."
      ]
    },
    {
      "cell_type": "code",
      "execution_count": null,
      "metadata": {
        "id": "8QC9BqT6CGiI"
      },
      "outputs": [],
      "source": [
        "# Example 5: Logic Error\n",
        "# The function is supposed to calculate the square of a number\n",
        "def square_number(x):\n",
        "    return x * 2\n",
        "\n",
        "print(square_number(4))"
      ]
    },
    {
      "cell_type": "markdown",
      "metadata": {
        "id": "bXaKXpUVCGiI"
      },
      "source": [
        "\n",
        "Review the function’s purpose and logic.\n",
        "\n",
        "Ask ChatGPT: *\"Why is this function not squaring the number?\""
      ]
    },
    {
      "cell_type": "code",
      "execution_count": null,
      "metadata": {
        "id": "UuqhY1VVCGiI"
      },
      "outputs": [],
      "source": [
        "# Example 6: Infinite Loop\n",
        "count = 0\n",
        "while count < 5:\n",
        "    print(\"Count is\", count)\n",
        "    # Missing increment step"
      ]
    },
    {
      "cell_type": "markdown",
      "metadata": {
        "id": "H9-bGmicCGiI"
      },
      "source": [
        "\n",
        "Use print statements to observe the loop’s progress.\n",
        "\n",
        "Ask ChatGPT: *\"Why is this loop not terminating?\""
      ]
    },
    {
      "cell_type": "code",
      "execution_count": null,
      "metadata": {
        "id": "-L7-AVjdCGiI"
      },
      "outputs": [],
      "source": [
        "# Example 7: Boolean Logic Error\n",
        "is_adult = True\n",
        "has_permission = False\n",
        "\n",
        "if is_adult or has_permission:\n",
        "    print(\"Access granted\")\n",
        "else:\n",
        "    print(\"Access denied\")"
      ]
    },
    {
      "cell_type": "markdown",
      "metadata": {
        "id": "UGrlj4DyCGiI"
      },
      "source": [
        "Use print statements to check the values of the boolean variables.\n",
        "\n",
        "Ask ChatGPT: *\"How does the or operator affect this condition?\""
      ]
    },
    {
      "cell_type": "code",
      "execution_count": null,
      "metadata": {
        "id": "wClXZvEhCGiI"
      },
      "outputs": [],
      "source": [
        "# Example 8: Logging errors\n",
        "# \"How can I log errors instead of using print statements?\""
      ]
    },
    {
      "cell_type": "markdown",
      "metadata": {
        "id": "uWLAfY7OCGiI"
      },
      "source": [
        "Ask ChatGPT: *\"How can I log errors instead of using print statements?\"\n",
        "\n",
        "Since ChatGPT may respond differently each time you use it, here are a couple of recommended libraries for debugging:\n",
        "\n",
        "pdb\n",
        "\n",
        "loguru"
      ]
    },
    {
      "cell_type": "markdown",
      "metadata": {
        "id": "92VxnliVCGiI"
      },
      "source": [
        "### Conclusion\n",
        "\n",
        "Debugging is an essential skill for Python developers. By combining your understanding of error messages with tools like pdb, logging, and ChatGPT, you can efficiently troubleshoot and fix issues. Remember, practice is key! Try creating your own buggy scripts and use ChatGPT to debug them."
      ]
    }
  ],
  "metadata": {
    "kernelspec": {
      "display_name": "myenvGL",
      "language": "python",
      "name": "python3"
    },
    "language_info": {
      "codemirror_mode": {
        "name": "ipython",
        "version": 3
      },
      "file_extension": ".py",
      "mimetype": "text/x-python",
      "name": "python",
      "nbconvert_exporter": "python",
      "pygments_lexer": "ipython3",
      "version": "3.9.6"
    },
    "colab": {
      "provenance": []
    }
  },
  "nbformat": 4,
  "nbformat_minor": 0
}